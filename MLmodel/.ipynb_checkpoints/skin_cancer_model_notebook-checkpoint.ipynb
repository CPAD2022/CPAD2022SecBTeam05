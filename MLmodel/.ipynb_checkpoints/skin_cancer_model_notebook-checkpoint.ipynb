{
 "cells": [
  {
   "cell_type": "code",
   "execution_count": null,
   "metadata": {},
   "outputs": [],
   "source": [
    "import os\n",
    "import matplotlib.pyplot as plt\n",
    "import numpy as np\n",
    "import pandas as pd\n",
    "import os\n",
    "from glob import glob\n",
    "import seaborn as sns\n",
    "from PIL import Image\n",
    "from sklearn.preprocessing import StandardScaler \n",
    "from sklearn.metrics import accuracy_score\n",
    "import keras\n",
    "from keras.applications import VGG19,Xception,VGG16\n",
    "from keras.models import Sequential, Model\n",
    "from keras.layers import Dense, Dropout, Flatten, Conv2D, MaxPool2D\n",
    "import tensorflow as tf\n",
    "from tensorflow.keras.layers import BatchNormalization\n",
    "from keras.optimizers import Adam, RMSprop\n",
    "from keras.preprocessing.image import ImageDataGenerator\n",
    "from tensorflow.keras.applications.resnet50 import ResNet50\n",
    "from keras import layers"
   ]
  },
  {
   "cell_type": "code",
   "execution_count": null,
   "metadata": {},
   "outputs": [],
   "source": [
    "# import  train test data \n",
    "# loading training set\n",
    "\n",
    "train_datagen = ImageDataGenerator(\n",
    "    rescale = 1/255,\n",
    "    shear_range = 0.2,\n",
    "    zoom_range = 0.2,\n",
    "    vertical_flip =  True, \n",
    "    rotation_range = 40,\n",
    "    brightness_range = (0.5, 1.5),\n",
    "    horizontal_flip = True\n",
    ")\n",
    "\n",
    "train_data = train_datagen.flow_from_directory(\n",
    "    'MLmodel/input/train',\n",
    "    target_size = (64, 64),\n",
    "    class_mode='sparse',\n",
    "    shuffle = True,\n",
    "    seed = 1\n",
    ")\n",
    "\n",
    "## loading validation dataset\n",
    "\n",
    "test_datagen = ImageDataGenerator(rescale = 1/255)\n",
    "\n",
    "test_data = test_datagen.flow_from_directory(\n",
    "    'MLmodel/input/test',\n",
    "    target_size = (64, 64),\n",
    "    class_mode='sparse',\n",
    "    shuffle = True,\n",
    "    seed = 1\n",
    ")"
   ]
  },
  {
   "cell_type": "code",
   "execution_count": null,
   "metadata": {},
   "outputs": [],
   "source": [
    "class_names = [\"Benign\", \"Malignant\"]\n",
    "for i in class_names :\n",
    "    print(class_names.index(i),\"  \",i)"
   ]
  },
  {
   "cell_type": "code",
   "execution_count": null,
   "metadata": {},
   "outputs": [],
   "source": [
    "#visulaize test_data\n",
    "\n",
    "fig, ax = plt.subplots()\n",
    "ax.bar([\"benign\"], [300], color = \"r\", label = 'benign')\n",
    "ax.bar([\"malignat\"], [360], color = \"b\", label = \"malignat\")\n",
    "ax.legend()"
   ]
  },
  {
   "cell_type": "code",
   "execution_count": null,
   "metadata": {},
   "outputs": [],
   "source": [
    "from tensorflow.keras.preprocessing import image\n",
    "import numpy as np\n",
    "image_path = \"/MLmodel/input/test/benign/1261.jpg\"\n",
    "new_img = image.load_img(image_path, target_size = (244, 244))\n",
    "img = image.img_to_array(new_img)\n",
    "img = np.expand_dims(img, axis = 0)\n",
    "print(\"benign\")\n",
    "plt.imshow(new_img)"
   ]
  },
  {
   "cell_type": "code",
   "execution_count": null,
   "metadata": {},
   "outputs": [],
   "source": [
    "from tensorflow.keras.preprocessing import image\n",
    "import numpy as np\n",
    "image_path = \"/MLmodel/input/test/malignant/1080.jpg\"\n",
    "new_img = image.load_img(image_path, target_size = (244, 244))\n",
    "img = image.img_to_array(new_img)\n",
    "img = np.expand_dims(img, axis = 0)\n",
    "print(\"malignant\")\n",
    "plt.imshow(new_img)"
   ]
  },
  {
   "cell_type": "code",
   "execution_count": null,
   "metadata": {},
   "outputs": [],
   "source": [
    "## Defining CNN\n",
    "\n",
    "model = tf.keras.models.Sequential([\n",
    "    layers.BatchNormalization(),\n",
    "    layers.Conv2D(32, 3, activation = 'relu'),\n",
    "    layers.MaxPooling2D(),\n",
    "    layers.Conv2D(64, 3, activation = 'relu'),\n",
    "    layers.MaxPooling2D(),\n",
    "    layers.Dropout(0.3),\n",
    "    layers.Conv2D(128, 3, activation = 'relu'),\n",
    "    layers.MaxPooling2D(),\n",
    "    layers.Dropout(0.2),\n",
    "    layers.Conv2D(256, 3, activation = 'relu'),\n",
    "    layers.MaxPooling2D(),\n",
    "    layers.Flatten(),\n",
    "    layers.Dense(512, activation = 'relu'),\n",
    "    layers.Dropout(0.15),\n",
    "    layers.Dense(2, activation = 'softmax')\n",
    "])"
   ]
  },
  {
   "cell_type": "code",
   "execution_count": null,
   "metadata": {},
   "outputs": [],
   "source": [
    "#compile the model\n",
    "import tensorflow as tf\n",
    "model.compile(optimizer = \"adam\", loss = keras.losses.SparseCategoricalCrossentropy(), metrics = ['accuracy'])\n",
    "\n",
    "#early stopping function\n",
    "early = tf.keras.callbacks.EarlyStopping(monitor = 'val_loss', patience = 5)\n",
    "\n",
    "#fit the model\n",
    "histroy = model.fit(\n",
    "    train_data,\n",
    "    validation_data = test_data, \n",
    "    callbacks = [early],\n",
    "    epochs = 5\n",
    ")"
   ]
  },
  {
   "cell_type": "code",
   "execution_count": null,
   "metadata": {},
   "outputs": [],
   "source": [
    "#evulate model\n",
    "model.evaluate(test_data)"
   ]
  },
  {
   "cell_type": "code",
   "execution_count": null,
   "metadata": {},
   "outputs": [],
   "source": [
    "#plotting training values\n",
    "import matplotlib.pyplot as plt\n",
    "import seaborn as sns\n",
    "sns.set()\n",
    "\n",
    "acc = histroy.history['accuracy']\n",
    "val_acc = histroy.history['val_accuracy']\n",
    "loss = histroy.history['loss']\n",
    "val_loss = histroy.history['val_loss']\n",
    "epochs = range(1, len(loss) + 1)\n",
    "\n",
    "#accuracy plot\n",
    "plt.plot(epochs, acc, color='green', label='Training Accuracy')\n",
    "plt.plot(epochs, val_acc, color='blue', label='Validation Accuracy')\n",
    "plt.title('Training and Validation Accuracy')\n",
    "plt.ylabel('Accuracy')\n",
    "plt.xlabel('Epoch')\n",
    "plt.legend()\n",
    "\n",
    "plt.figure()\n",
    "#loss plot\n",
    "plt.plot(epochs, loss, color='pink', label='Training Loss')\n",
    "plt.plot(epochs, val_loss, color='red', label='Validation Loss')\n",
    "plt.title('Training and Validation Loss')\n",
    "plt.xlabel('Epoch')\n",
    "plt.ylabel('Loss')\n",
    "plt.legend()\n",
    "\n",
    "plt.show()"
   ]
  },
  {
   "cell_type": "code",
   "execution_count": null,
   "metadata": {},
   "outputs": [],
   "source": [
    "#predict val data\n",
    "y_pred = model.predict(test_data)\n",
    "y_pred =  np.argmax(y_pred,axis=1)\n",
    "\n",
    "print(y_pred)"
   ]
  },
  {
   "cell_type": "code",
   "execution_count": null,
   "metadata": {},
   "outputs": [],
   "source": [
    "#example 1\n",
    "from tensorflow.keras.preprocessing import image\n",
    "import numpy as np\n",
    "image_path = \"/content/skin-cancer-malignant-vs-benign/test/benign/1006.jpg\"\n",
    "new_img = image.load_img(image_path, target_size=(64, 64))\n",
    "img = image.img_to_array(new_img)\n",
    "img = np.expand_dims(img, axis=0)\n",
    "prediction = model.predict(img)\n",
    "prediction = np.argmax(prediction,axis=1)\n",
    "print(prediction)\n",
    "print(class_names[prediction[0]])\n",
    "plt.imshow(new_img)\n"
   ]
  },
  {
   "cell_type": "code",
   "execution_count": null,
   "metadata": {},
   "outputs": [],
   "source": [
    "#example 2\n",
    "from tensorflow.keras.preprocessing import image\n",
    "import numpy as np\n",
    "image_path = \"/content/skin-cancer-malignant-vs-benign/train/malignant/1006.jpg\"\n",
    "new_img = image.load_img(image_path, target_size=(64, 64))\n",
    "img = image.img_to_array(new_img)\n",
    "img = np.expand_dims(img, axis=0)\n",
    "prediction = model.predict(img)\n",
    "prediction = np.argmax(prediction,axis=1)\n",
    "print(prediction)\n",
    "print(class_names[prediction[0]])\n",
    "plt.imshow(new_img)"
   ]
  },
  {
   "cell_type": "code",
   "execution_count": null,
   "metadata": {},
   "outputs": [],
   "source": [
    "#example 3\n",
    "from tensorflow.keras.preprocessing import image\n",
    "import numpy as np\n",
    "image_path = \"/content/skin-cancer-malignant-vs-benign/test/benign/1261.jpg\"\n",
    "new_img = image.load_img(image_path, target_size=(64, 64))\n",
    "img = image.img_to_array(new_img)\n",
    "img = np.expand_dims(img, axis=0)\n",
    "prediction = model.predict(img)\n",
    "prediction = np.argmax(prediction,axis=1)\n",
    "print(prediction)\n",
    "print(class_names[prediction[0]])\n",
    "plt.imshow(new_img)"
   ]
  },
  {
   "cell_type": "code",
   "execution_count": null,
   "metadata": {},
   "outputs": [],
   "source": [
    "#example 3=4\n",
    "from tensorflow.keras.preprocessing import image\n",
    "import numpy as np\n",
    "image_path = \"/content/skin-cancer-malignant-vs-benign/test/malignant/1058.jpg\"\n",
    "new_img = image.load_img(image_path, target_size=(64, 64))\n",
    "img = image.img_to_array(new_img)\n",
    "img = np.expand_dims(img, axis=0)\n",
    "prediction = model.predict(img)\n",
    "prediction = np.argmax(prediction,axis=1)\n",
    "print(prediction)\n",
    "print(class_names[prediction[0]])\n",
    "plt.imshow(new_img)"
   ]
  },
  {
   "cell_type": "code",
   "execution_count": null,
   "metadata": {},
   "outputs": [],
   "source": [
    "#save file as h5 model\n",
    "from keras.models import model_from_json\n",
    "xception_json = model.to_json()\n",
    "with open(\"model2.json\", \"w\") as json_file:\n",
    "    json_file.write(xception_json)\n",
    "# serialize weights to HDF5\n",
    "model.save(\"model_skin2.h5\") \n",
    "converter = tf.lite.TFLiteConverter.from_keras_model(model) # path to the SavedModel directory\n",
    "tflite_model = converter.convert()\n",
    "\n",
    "# Save the model.\n",
    "with open('model_skin.tflite', 'wb') as f:\n",
    "  f.write(tflite_model)"
   ]
  }
 ],
 "metadata": {
  "kernelspec": {
   "display_name": "Python 3 (ipykernel)",
   "language": "python",
   "name": "python3"
  },
  "language_info": {
   "codemirror_mode": {
    "name": "ipython",
    "version": 3
   },
   "file_extension": ".py",
   "mimetype": "text/x-python",
   "name": "python",
   "nbconvert_exporter": "python",
   "pygments_lexer": "ipython3",
   "version": "3.9.7"
  }
 },
 "nbformat": 4,
 "nbformat_minor": 2
}
