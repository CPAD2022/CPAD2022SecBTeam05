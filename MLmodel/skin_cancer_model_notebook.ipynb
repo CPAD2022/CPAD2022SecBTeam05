{
 "cells": [
  {
   "cell_type": "code",
   "execution_count": null,
   "metadata": {},
   "outputs": [],
   "source": [
    "import os\n",
    "import matplotlib.pyplot as plt\n",
    "import numpy as np\n",
    "import pandas as pd\n",
    "import os\n",
    "from glob import glob\n",
    "import seaborn as sns\n",
    "from PIL import Image\n",
    "from sklearn.preprocessing import StandardScaler \n",
    "from sklearn.metrics import accuracy_score\n",
    "import keras\n",
    "from keras.applications import VGG19,Xception,VGG16\n",
    "from keras.models import Sequential, Model\n",
    "from keras.layers import Dense, Dropout, Flatten, Conv2D, MaxPool2D\n",
    "import tensorflow as tf\n",
    "from tensorflow.keras.layers import BatchNormalization\n",
    "from keras.optimizers import Adam, RMSprop\n",
    "from keras.preprocessing.image import ImageDataGenerator\n",
    "from tensorflow.keras.applications.resnet50 import ResNet50\n",
    "from keras import layers"
   ]
  },
  {
   "cell_type": "code",
   "execution_count": null,
   "metadata": {},
   "outputs": [],
   "source": [
    "# import  train test data \n",
    "# loading training set\n",
    "\n",
    "train_datagen = ImageDataGenerator(\n",
    "    rescale = 1/255,\n",
    "    shear_range = 0.2,\n",
    "    zoom_range = 0.2,\n",
    "    vertical_flip =  True, \n",
    "    rotation_range = 40,\n",
    "    brightness_range = (0.5, 1.5),\n",
    "    horizontal_flip = True\n",
    ")\n",
    "\n",
    "train_data = train_datagen.flow_from_directory(\n",
    "    '/content/skin-cancer-malignant-vs-benign/train',\n",
    "    target_size = (64, 64),\n",
    "    class_mode='sparse',\n",
    "    shuffle = True,\n",
    "    seed = 1\n",
    ")\n",
    "\n",
    "## loading validation dataset\n",
    "\n",
    "test_datagen = ImageDataGenerator(rescale = 1/255)\n",
    "\n",
    "test_data = test_datagen.flow_from_directory(\n",
    "    '/content/skin-cancer-malignant-vs-benign/test',\n",
    "    target_size = (64, 64),\n",
    "    class_mode='sparse',\n",
    "    shuffle = True,\n",
    "    seed = 1\n",
    ")"
   ]
  },
  {
   "cell_type": "code",
   "execution_count": null,
   "metadata": {},
   "outputs": [],
   "source": [
    "class_names = [\"Benign\", \"Malignant\"]\n",
    "for i in class_names :\n",
    "    print(class_names.index(i),\"  \",i)"
   ]
  },
  {
   "cell_type": "code",
   "execution_count": null,
   "metadata": {},
   "outputs": [],
   "source": [
    "#visulaize test_data\n",
    "\n",
    "fig, ax = plt.subplots()\n",
    "ax.bar([\"benign\"], [300], color = \"r\", label = 'benign')\n",
    "ax.bar([\"malignat\"], [360], color = \"b\", label = \"malignat\")\n",
    "ax.legend()"
   ]
  },
  {
   "cell_type": "code",
   "execution_count": null,
   "metadata": {},
   "outputs": [],
   "source": [
    "from tensorflow.keras.preprocessing import image\n",
    "import numpy as np\n",
    "image_path = \"/content/skin-cancer-malignant-vs-benign/test/benign/1261.jpg\"\n",
    "new_img = image.load_img(image_path, target_size = (244, 244))\n",
    "img = image.img_to_array(new_img)\n",
    "img = np.expand_dims(img, axis = 0)\n",
    "print(\"benign\")\n",
    "plt.imshow(new_img)"
   ]
  },
  {
   "cell_type": "code",
   "execution_count": null,
   "metadata": {},
   "outputs": [],
   "source": [
    "from tensorflow.keras.preprocessing import image\n",
    "import numpy as np\n",
    "image_path = \"/content/skin-cancer-malignant-vs-benign/test/malignant/1080.jpg\"\n",
    "new_img = image.load_img(image_path, target_size = (244, 244))\n",
    "img = image.img_to_array(new_img)\n",
    "img = np.expand_dims(img, axis = 0)\n",
    "print(\"malignant\")\n",
    "plt.imshow(new_img)"
   ]
  },
  {
   "cell_type": "code",
   "execution_count": null,
   "metadata": {},
   "outputs": [],
   "source": [
    "## Defining CNN\n",
    "\n",
    "model = tf.keras.models.Sequential([\n",
    "    layers.BatchNormalization(),\n",
    "    layers.Conv2D(32, 3, activation='relu'),\n",
    "    layers.MaxPooling2D(),\n",
    "    layers.Conv2D(64, 3, activation='relu'),\n",
    "    layers.MaxPooling2D(),\n",
    "    layers.Dropout(0.3),\n",
    "    layers.Conv2D(128, 3, activation='relu'),\n",
    "    layers.MaxPooling2D(),\n",
    "    layers.Dropout(0.2),\n",
    "    layers.Conv2D(256, 3, activation='relu'),\n",
    "    layers.MaxPooling2D(),\n",
    "    layers.Flatten(),\n",
    "    layers.Dense(512, activation='relu'),\n",
    "    layers.Dropout(0.15),\n",
    "    layers.Dense(2, activation= 'softmax')\n",
    "])"
   ]
  },
  {
   "cell_type": "code",
   "execution_count": null,
   "metadata": {},
   "outputs": [],
   "source": [
    "#compile the model\n",
    "import tensorflow as tf\n",
    "model.compile(optimizer = \"adam\", loss = keras.losses.SparseCategoricalCrossentropy(), metrics = ['accuracy'])\n",
    "\n",
    "#early stopping function\n",
    "early = tf.keras.callbacks.EarlyStopping(monitor = 'val_loss', patience = 5)\n",
    "\n",
    "#fit the model\n",
    "histroy = model.fit(\n",
    "    train_data,\n",
    "    validation_data = test_data, \n",
    "    callbacks = [early],\n",
    "    epochs = 5\n",
    ")"
   ]
  },
  {
   "cell_type": "code",
   "execution_count": null,
   "metadata": {},
   "outputs": [],
   "source": [
    "#evulate model\n",
    "model.evaluate(test_data)"
   ]
  }
 ],
 "metadata": {
  "language_info": {
   "name": "python"
  },
  "orig_nbformat": 4
 },
 "nbformat": 4,
 "nbformat_minor": 2
}
